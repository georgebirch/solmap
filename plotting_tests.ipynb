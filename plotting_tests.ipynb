{
 "cells": [
  {
   "cell_type": "code",
   "execution_count": 9,
   "metadata": {},
   "outputs": [],
   "source": [
    "from utils.paths import *\n",
    "from utils.dataset import *\n",
    "from utils.plot_utils import *\n",
    "\n",
    "from pkg_resources import get_platform\n",
    "\n",
    "import dash\n",
    "from dash import dcc\n",
    "from dash import html\n",
    "from dash.dependencies import Input, Output\n",
    "\n",
    "\n",
    "# gps_coords = 46.08247, 7.29364\n",
    "# peaks_df, observer_height = pth.get_mtn_geometry(gps_coords)"
   ]
  },
  {
   "cell_type": "code",
   "execution_count": 7,
   "metadata": {},
   "outputs": [
    {
     "ename": "NameError",
     "evalue": "name 'pth' is not defined",
     "output_type": "error",
     "traceback": [
      "\u001b[0;31m---------------------------------------------------------------------------\u001b[0m",
      "\u001b[0;31mNameError\u001b[0m                                 Traceback (most recent call last)",
      "\u001b[0;32m/var/folders/wd/wwsl3f0x44sbqhsyp2_8py2r0000gn/T/ipykernel_33360/3416757706.py\u001b[0m in \u001b[0;36m<module>\u001b[0;34m\u001b[0m\n\u001b[1;32m      1\u001b[0m \u001b[0;32mimport\u001b[0m \u001b[0mimportlib\u001b[0m\u001b[0;34m\u001b[0m\u001b[0;34m\u001b[0m\u001b[0m\n\u001b[0;32m----> 2\u001b[0;31m \u001b[0mimportlib\u001b[0m\u001b[0;34m.\u001b[0m\u001b[0mreload\u001b[0m\u001b[0;34m(\u001b[0m\u001b[0mpth\u001b[0m\u001b[0;34m)\u001b[0m\u001b[0;34m\u001b[0m\u001b[0;34m\u001b[0m\u001b[0m\n\u001b[0m\u001b[1;32m      3\u001b[0m \u001b[0;34m\u001b[0m\u001b[0m\n\u001b[1;32m      4\u001b[0m \u001b[0mmdf_list\u001b[0m\u001b[0;34m,\u001b[0m \u001b[0mtdf_list\u001b[0m\u001b[0;34m,\u001b[0m \u001b[0mamdf_list\u001b[0m  \u001b[0;34m=\u001b[0m \u001b[0;34m[\u001b[0m\u001b[0;34m]\u001b[0m\u001b[0;34m,\u001b[0m \u001b[0;34m[\u001b[0m\u001b[0;34m]\u001b[0m\u001b[0;34m,\u001b[0m \u001b[0;34m[\u001b[0m\u001b[0;34m]\u001b[0m\u001b[0;34m\u001b[0m\u001b[0;34m\u001b[0m\u001b[0m\n\u001b[1;32m      5\u001b[0m \u001b[0;32mfor\u001b[0m \u001b[0mmonth\u001b[0m \u001b[0;32min\u001b[0m \u001b[0mnp\u001b[0m\u001b[0;34m.\u001b[0m\u001b[0marange\u001b[0m\u001b[0;34m(\u001b[0m\u001b[0;36m1\u001b[0m\u001b[0;34m,\u001b[0m\u001b[0;36m13\u001b[0m\u001b[0;34m)\u001b[0m\u001b[0;34m:\u001b[0m\u001b[0;34m\u001b[0m\u001b[0;34m\u001b[0m\u001b[0m\n",
      "\u001b[0;31mNameError\u001b[0m: name 'pth' is not defined"
     ]
    }
   ],
   "source": [
    "import importlib\n",
    "importlib.reload(pth)\n",
    "\n",
    "mdf_list, tdf_list, amdf_list  = [], [], []\n",
    "for month in np.arange(1,13):\n",
    "    # td = datetime.timedelta(days = interval)\n",
    "    # final_date = start_date + n_intervals * td\n",
    "    year = 2021\n",
    "    day = 1\n",
    "    date = {'year':year,'month':month,'day':day}\n",
    "    date = datetime.date(year = date['year'], month = date['month'], day = date['day'])\n",
    "    mdf_,tdf_,amdf_  = pth.get_data(gps_coords, observer_height, peaks_df, date)\n",
    "    mdf_list.append(mdf_)\n",
    "    tdf_list.append(tdf_)\n",
    "    amdf_list.append(amdf_)\n",
    "\n",
    "\n",
    "month = 6\n",
    "\n",
    "mdf = mdf_list[month]\n",
    "tdf = tdf_list[month]\n",
    "\n",
    "peak_lines = dict(\n",
    "                type = 'scatter',\n",
    "                x = mdf.bearing,\n",
    "                y = mdf.peak_angle,\n",
    "                line = dict(color = 'gold'),\n",
    "                mode = 'none',\n",
    "                stackgroup = 'sun',\n",
    "                fillcolor = 'black'\n",
    "                # fill = 'tozeroy'\n",
    "                )\n",
    "\n",
    "diff_lines = dict(\n",
    "                type = 'scatter',\n",
    "                x = mdf.bearing,\n",
    "                y = mdf.el_diff,\n",
    "                line = dict(color = 'gold'),\n",
    "                mode = 'none',\n",
    "                stackgroup = 'sun',\n",
    "                fillcolor = 'gold'\n",
    "                # fill = 'tozeroy'\n",
    "                )\n",
    "\n",
    "sun_line = dict(\n",
    "                type = 'scatter',\n",
    "                x = mdf.loc[ mdf.daylight == 'day' ].bearing,\n",
    "                y = mdf.loc[ mdf.daylight == 'day' ].elevation,\n",
    "                line = dict(\n",
    "                    color = 'white',\n",
    "                    width = 0.5),\n",
    "            )\n",
    "\n",
    "pio.templates.default = \"simple_white\"\n",
    "\n",
    "fig = go.Figure()\n",
    "\n",
    "fig.add_traces([\n",
    "    peak_lines,\n",
    "    diff_lines,\n",
    "    sun_line\n",
    "])\n",
    "\n",
    "annotations = []\n",
    "gdf = tdf.loc[tdf.elevation > 0].groupby('time')\n",
    "for hour, df in gdf:\n",
    "    df = df.sort_values('date').reset_index()\n",
    "    # print(df.head)\n",
    "    x = float( df['azimuth' ] )\n",
    "    y = float( df['elevation' ] )\n",
    "    text = hour\n",
    "    grad = float( df.grad )\n",
    "    fig.add_trace(\n",
    "        go.Scatter(\n",
    "            x=[ x, x + 2 * grad],\n",
    "            y=[ y, y - 2] ,\n",
    "            line = dict( color=\"white\", width=1), \n",
    "            # fill = 'toself',\n",
    "            marker = None,\n",
    "            mode = 'lines',\n",
    "            showlegend = False\n",
    "        )\n",
    "    )\n",
    "    # markers.append(make_marker_dict(x,y,hour))\n",
    "    annotations.append( dict(\n",
    "        text = str(text) + ':00',\n",
    "        x = x,\n",
    "        y = y,\n",
    "        xanchor = 'center',\n",
    "        yanchor = 'middle',\n",
    "        xshift = 10 * grad,\n",
    "        yshift = -20,\n",
    "        showarrow = False,\n",
    "        font = dict(color = 'white'),\n",
    "        opacity = 1\n",
    "    )    )\n",
    "\n",
    "fig.update_layout( \n",
    "    annotations = annotations,\n",
    "    xaxis = dict(\n",
    "        tickmode = 'array',\n",
    "        tickvals = [0, 22.5, 45.0, 67.5, 90.0, 112.5, 135.0, 157.5, 180.0, 202.5, 225.0, 247.5, 270.0, 292.5, 315, 337.5] ,\n",
    "        ticktext = ['N', 'ENE', 'NE', 'ENE', 'E', 'ESE', 'SE', 'SSE', 'S', 'SSW', 'SW', 'WSW', 'W', 'WNW', 'NW', 'NWN'] \n",
    "    ),\n",
    "    yaxis = dict(\n",
    "        range = [0, 80],\n",
    "        anchor = 'free',\n",
    "        position = 0.5,\n",
    "        visible = False\n",
    "    ),\n",
    "    showlegend=False,\n",
    "    autosize=False,\n",
    "        width=1500,\n",
    "        height=800,\n",
    "        margin=dict(\n",
    "            l=50,\n",
    "            r=50,\n",
    "            b=100,\n",
    "            t=100,\n",
    "            pad=4\n",
    "        ),\n",
    ")"
   ]
  },
  {
   "cell_type": "code",
   "execution_count": 4,
   "metadata": {},
   "outputs": [],
   "source": [
    "month_names = ['Jan', 'Feb', 'Mar', 'Apr', 'May', 'Jun', 'Jul', 'Aug', 'Sep', 'Oct', 'Nov', 'Dec']\n",
    "\n",
    "marks = { i+1:{'label':month_names[i], 'style':{'font':{'family':'Arial'} } } for i in range(12) }"
   ]
  },
  {
   "cell_type": "code",
   "execution_count": 5,
   "metadata": {},
   "outputs": [
    {
     "data": {
      "text/plain": [
       "{1: {'label': 'Jan', 'style': {'font': {'family': 'Arial'}}},\n",
       " 2: {'label': 'Feb', 'style': {'font': {'family': 'Arial'}}},\n",
       " 3: {'label': 'Mar', 'style': {'font': {'family': 'Arial'}}},\n",
       " 4: {'label': 'Apr', 'style': {'font': {'family': 'Arial'}}},\n",
       " 5: {'label': 'May', 'style': {'font': {'family': 'Arial'}}},\n",
       " 6: {'label': 'Jun', 'style': {'font': {'family': 'Arial'}}},\n",
       " 7: {'label': 'Jul', 'style': {'font': {'family': 'Arial'}}},\n",
       " 8: {'label': 'Aug', 'style': {'font': {'family': 'Arial'}}},\n",
       " 9: {'label': 'Sep', 'style': {'font': {'family': 'Arial'}}},\n",
       " 10: {'label': 'Oct', 'style': {'font': {'family': 'Arial'}}},\n",
       " 11: {'label': 'Nov', 'style': {'font': {'family': 'Arial'}}},\n",
       " 12: {'label': 'Dec', 'style': {'font': {'family': 'Arial'}}}}"
      ]
     },
     "execution_count": 5,
     "metadata": {},
     "output_type": "execute_result"
    }
   ],
   "source": [
    "marks"
   ]
  },
  {
   "cell_type": "code",
   "execution_count": 12,
   "metadata": {},
   "outputs": [
    {
     "ename": "ValueError",
     "evalue": "Invalid property specified for object of type plotly.graph_objs.layout.Slider: 'min'\n\nDid you mean \"len\"?\n\n    Valid properties:\n        active\n            Determines which button (by index starting from 0) is\n            considered active.\n        activebgcolor\n            Sets the background color of the slider grip while\n            dragging.\n        bgcolor\n            Sets the background color of the slider.\n        bordercolor\n            Sets the color of the border enclosing the slider.\n        borderwidth\n            Sets the width (in px) of the border enclosing the\n            slider.\n        currentvalue\n            :class:`plotly.graph_objects.layout.slider.Currentvalue\n            ` instance or dict with compatible properties\n        font\n            Sets the font of the slider step labels.\n        len\n            Sets the length of the slider This measure excludes the\n            padding of both ends. That is, the slider's length is\n            this length minus the padding on both ends.\n        lenmode\n            Determines whether this slider length is set in units\n            of plot \"fraction\" or in *pixels. Use `len` to set the\n            value.\n        minorticklen\n            Sets the length in pixels of minor step tick marks\n        name\n            When used in a template, named items are created in the\n            output figure in addition to any items the figure\n            already has in this array. You can modify these items\n            in the output figure by making your own item with\n            `templateitemname` matching this `name` alongside your\n            modifications (including `visible: false` or `enabled:\n            false` to hide it). Has no effect outside of a\n            template.\n        pad\n            Set the padding of the slider component along each\n            side.\n        steps\n            A tuple of\n            :class:`plotly.graph_objects.layout.slider.Step`\n            instances or dicts with compatible properties\n        stepdefaults\n            When used in a template (as\n            layout.template.layout.slider.stepdefaults), sets the\n            default property values to use for elements of\n            layout.slider.steps\n        templateitemname\n            Used to refer to a named item in this array in the\n            template. Named items from the template will be created\n            even without a matching item in the input figure, but\n            you can modify one by making an item with\n            `templateitemname` matching its `name`, alongside your\n            modifications (including `visible: false` or `enabled:\n            false` to hide it). If there is no template or no\n            matching item, this item will be hidden unless you\n            explicitly show it with `visible: true`.\n        tickcolor\n            Sets the color of the border enclosing the slider.\n        ticklen\n            Sets the length in pixels of step tick marks\n        tickwidth\n            Sets the tick width (in px).\n        transition\n            :class:`plotly.graph_objects.layout.slider.Transition`\n            instance or dict with compatible properties\n        visible\n            Determines whether or not the slider is visible.\n        x\n            Sets the x position (in normalized coordinates) of the\n            slider.\n        xanchor\n            Sets the slider's horizontal position anchor. This\n            anchor binds the `x` position to the \"left\", \"center\"\n            or \"right\" of the range selector.\n        y\n            Sets the y position (in normalized coordinates) of the\n            slider.\n        yanchor\n            Sets the slider's vertical position anchor This anchor\n            binds the `y` position to the \"top\", \"middle\" or\n            \"bottom\" of the range selector.\n        \nDid you mean \"len\"?\n\nBad property path:\nmin\n^^^",
     "output_type": "error",
     "traceback": [
      "\u001b[0;31m---------------------------------------------------------------------------\u001b[0m",
      "\u001b[0;31mValueError\u001b[0m                                Traceback (most recent call last)",
      "\u001b[0;32m/var/folders/wd/wwsl3f0x44sbqhsyp2_8py2r0000gn/T/ipykernel_33360/1135507654.py\u001b[0m in \u001b[0;36m<module>\u001b[0;34m\u001b[0m\n\u001b[1;32m      4\u001b[0m \u001b[0;34m\u001b[0m\u001b[0m\n\u001b[1;32m      5\u001b[0m fig.update_layout(\n\u001b[0;32m----> 6\u001b[0;31m     \u001b[0msliders\u001b[0m \u001b[0;34m=\u001b[0m \u001b[0;34m[\u001b[0m\u001b[0mslider\u001b[0m\u001b[0;34m]\u001b[0m\u001b[0;34m\u001b[0m\u001b[0;34m\u001b[0m\u001b[0m\n\u001b[0m\u001b[1;32m      7\u001b[0m )\n\u001b[1;32m      8\u001b[0m \u001b[0;34m\u001b[0m\u001b[0m\n",
      "\u001b[0;32m~/opt/anaconda3/envs/solmap/lib/python3.7/site-packages/plotly/basedatatypes.py\u001b[0m in \u001b[0;36mupdate_layout\u001b[0;34m(self, dict1, overwrite, **kwargs)\u001b[0m\n\u001b[1;32m   1401\u001b[0m             \u001b[0mThe\u001b[0m \u001b[0mFigure\u001b[0m \u001b[0mobject\u001b[0m \u001b[0mthat\u001b[0m \u001b[0mthe\u001b[0m \u001b[0mupdate_layout\u001b[0m \u001b[0mmethod\u001b[0m \u001b[0mwas\u001b[0m \u001b[0mcalled\u001b[0m \u001b[0mon\u001b[0m\u001b[0;34m\u001b[0m\u001b[0;34m\u001b[0m\u001b[0m\n\u001b[1;32m   1402\u001b[0m         \"\"\"\n\u001b[0;32m-> 1403\u001b[0;31m         \u001b[0mself\u001b[0m\u001b[0;34m.\u001b[0m\u001b[0mlayout\u001b[0m\u001b[0;34m.\u001b[0m\u001b[0mupdate\u001b[0m\u001b[0;34m(\u001b[0m\u001b[0mdict1\u001b[0m\u001b[0;34m,\u001b[0m \u001b[0moverwrite\u001b[0m\u001b[0;34m=\u001b[0m\u001b[0moverwrite\u001b[0m\u001b[0;34m,\u001b[0m \u001b[0;34m**\u001b[0m\u001b[0mkwargs\u001b[0m\u001b[0;34m)\u001b[0m\u001b[0;34m\u001b[0m\u001b[0;34m\u001b[0m\u001b[0m\n\u001b[0m\u001b[1;32m   1404\u001b[0m         \u001b[0;32mreturn\u001b[0m \u001b[0mself\u001b[0m\u001b[0;34m\u001b[0m\u001b[0;34m\u001b[0m\u001b[0m\n\u001b[1;32m   1405\u001b[0m \u001b[0;34m\u001b[0m\u001b[0m\n",
      "\u001b[0;32m~/opt/anaconda3/envs/solmap/lib/python3.7/site-packages/plotly/basedatatypes.py\u001b[0m in \u001b[0;36mupdate\u001b[0;34m(self, dict1, overwrite, **kwargs)\u001b[0m\n\u001b[1;32m   5080\u001b[0m             \u001b[0;32mwith\u001b[0m \u001b[0mself\u001b[0m\u001b[0;34m.\u001b[0m\u001b[0mfigure\u001b[0m\u001b[0;34m.\u001b[0m\u001b[0mbatch_update\u001b[0m\u001b[0;34m(\u001b[0m\u001b[0;34m)\u001b[0m\u001b[0;34m:\u001b[0m\u001b[0;34m\u001b[0m\u001b[0;34m\u001b[0m\u001b[0m\n\u001b[1;32m   5081\u001b[0m                 \u001b[0mBaseFigure\u001b[0m\u001b[0;34m.\u001b[0m\u001b[0m_perform_update\u001b[0m\u001b[0;34m(\u001b[0m\u001b[0mself\u001b[0m\u001b[0;34m,\u001b[0m \u001b[0mdict1\u001b[0m\u001b[0;34m,\u001b[0m \u001b[0moverwrite\u001b[0m\u001b[0;34m=\u001b[0m\u001b[0moverwrite\u001b[0m\u001b[0;34m)\u001b[0m\u001b[0;34m\u001b[0m\u001b[0;34m\u001b[0m\u001b[0m\n\u001b[0;32m-> 5082\u001b[0;31m                 \u001b[0mBaseFigure\u001b[0m\u001b[0;34m.\u001b[0m\u001b[0m_perform_update\u001b[0m\u001b[0;34m(\u001b[0m\u001b[0mself\u001b[0m\u001b[0;34m,\u001b[0m \u001b[0mkwargs\u001b[0m\u001b[0;34m,\u001b[0m \u001b[0moverwrite\u001b[0m\u001b[0;34m=\u001b[0m\u001b[0moverwrite\u001b[0m\u001b[0;34m)\u001b[0m\u001b[0;34m\u001b[0m\u001b[0;34m\u001b[0m\u001b[0m\n\u001b[0m\u001b[1;32m   5083\u001b[0m         \u001b[0;32melse\u001b[0m\u001b[0;34m:\u001b[0m\u001b[0;34m\u001b[0m\u001b[0;34m\u001b[0m\u001b[0m\n\u001b[1;32m   5084\u001b[0m             \u001b[0mBaseFigure\u001b[0m\u001b[0;34m.\u001b[0m\u001b[0m_perform_update\u001b[0m\u001b[0;34m(\u001b[0m\u001b[0mself\u001b[0m\u001b[0;34m,\u001b[0m \u001b[0mdict1\u001b[0m\u001b[0;34m,\u001b[0m \u001b[0moverwrite\u001b[0m\u001b[0;34m=\u001b[0m\u001b[0moverwrite\u001b[0m\u001b[0;34m)\u001b[0m\u001b[0;34m\u001b[0m\u001b[0;34m\u001b[0m\u001b[0m\n",
      "\u001b[0;32m~/opt/anaconda3/envs/solmap/lib/python3.7/site-packages/plotly/basedatatypes.py\u001b[0m in \u001b[0;36m_perform_update\u001b[0;34m(plotly_obj, update_obj, overwrite)\u001b[0m\n\u001b[1;32m   3916\u001b[0m                         \u001b[0;31m# plotly_obj is an empty or uninitialized list for key\u001b[0m\u001b[0;34m\u001b[0m\u001b[0;34m\u001b[0m\u001b[0;34m\u001b[0m\u001b[0m\n\u001b[1;32m   3917\u001b[0m                         \u001b[0;31m# In this case we accept val as is\u001b[0m\u001b[0;34m\u001b[0m\u001b[0;34m\u001b[0m\u001b[0;34m\u001b[0m\u001b[0m\n\u001b[0;32m-> 3918\u001b[0;31m                         \u001b[0mplotly_obj\u001b[0m\u001b[0;34m[\u001b[0m\u001b[0mkey\u001b[0m\u001b[0;34m]\u001b[0m \u001b[0;34m=\u001b[0m \u001b[0mval\u001b[0m\u001b[0;34m\u001b[0m\u001b[0;34m\u001b[0m\u001b[0m\n\u001b[0m\u001b[1;32m   3919\u001b[0m                 \u001b[0;32melse\u001b[0m\u001b[0;34m:\u001b[0m\u001b[0;34m\u001b[0m\u001b[0;34m\u001b[0m\u001b[0m\n\u001b[1;32m   3920\u001b[0m                     \u001b[0;31m# Assign non-compound value\u001b[0m\u001b[0;34m\u001b[0m\u001b[0;34m\u001b[0m\u001b[0;34m\u001b[0m\u001b[0m\n",
      "\u001b[0;32m~/opt/anaconda3/envs/solmap/lib/python3.7/site-packages/plotly/basedatatypes.py\u001b[0m in \u001b[0;36m__setitem__\u001b[0;34m(self, prop, value)\u001b[0m\n\u001b[1;32m   5819\u001b[0m         \u001b[0;32mif\u001b[0m \u001b[0mmatch\u001b[0m \u001b[0;32mis\u001b[0m \u001b[0;32mNone\u001b[0m\u001b[0;34m:\u001b[0m\u001b[0;34m\u001b[0m\u001b[0;34m\u001b[0m\u001b[0m\n\u001b[1;32m   5820\u001b[0m             \u001b[0;31m# Set as ordinary property\u001b[0m\u001b[0;34m\u001b[0m\u001b[0;34m\u001b[0m\u001b[0;34m\u001b[0m\u001b[0m\n\u001b[0;32m-> 5821\u001b[0;31m             \u001b[0msuper\u001b[0m\u001b[0;34m(\u001b[0m\u001b[0mBaseLayoutHierarchyType\u001b[0m\u001b[0;34m,\u001b[0m \u001b[0mself\u001b[0m\u001b[0;34m)\u001b[0m\u001b[0;34m.\u001b[0m\u001b[0m__setitem__\u001b[0m\u001b[0;34m(\u001b[0m\u001b[0mprop\u001b[0m\u001b[0;34m,\u001b[0m \u001b[0mvalue\u001b[0m\u001b[0;34m)\u001b[0m\u001b[0;34m\u001b[0m\u001b[0;34m\u001b[0m\u001b[0m\n\u001b[0m\u001b[1;32m   5822\u001b[0m         \u001b[0;32melse\u001b[0m\u001b[0;34m:\u001b[0m\u001b[0;34m\u001b[0m\u001b[0;34m\u001b[0m\u001b[0m\n\u001b[1;32m   5823\u001b[0m             \u001b[0;31m# Set as subplotid property\u001b[0m\u001b[0;34m\u001b[0m\u001b[0;34m\u001b[0m\u001b[0;34m\u001b[0m\u001b[0m\n",
      "\u001b[0;32m~/opt/anaconda3/envs/solmap/lib/python3.7/site-packages/plotly/basedatatypes.py\u001b[0m in \u001b[0;36m__setitem__\u001b[0;34m(self, prop, value)\u001b[0m\n\u001b[1;32m   4813\u001b[0m                 \u001b[0;31m# ### Handle compound array property ###\u001b[0m\u001b[0;34m\u001b[0m\u001b[0;34m\u001b[0m\u001b[0;34m\u001b[0m\u001b[0m\n\u001b[1;32m   4814\u001b[0m                 \u001b[0;32melif\u001b[0m \u001b[0misinstance\u001b[0m\u001b[0;34m(\u001b[0m\u001b[0mvalidator\u001b[0m\u001b[0;34m,\u001b[0m \u001b[0;34m(\u001b[0m\u001b[0mCompoundArrayValidator\u001b[0m\u001b[0;34m,\u001b[0m \u001b[0mBaseDataValidator\u001b[0m\u001b[0;34m)\u001b[0m\u001b[0;34m)\u001b[0m\u001b[0;34m:\u001b[0m\u001b[0;34m\u001b[0m\u001b[0;34m\u001b[0m\u001b[0m\n\u001b[0;32m-> 4815\u001b[0;31m                     \u001b[0mself\u001b[0m\u001b[0;34m.\u001b[0m\u001b[0m_set_array_prop\u001b[0m\u001b[0;34m(\u001b[0m\u001b[0mprop\u001b[0m\u001b[0;34m,\u001b[0m \u001b[0mvalue\u001b[0m\u001b[0;34m)\u001b[0m\u001b[0;34m\u001b[0m\u001b[0;34m\u001b[0m\u001b[0m\n\u001b[0m\u001b[1;32m   4816\u001b[0m \u001b[0;34m\u001b[0m\u001b[0m\n\u001b[1;32m   4817\u001b[0m                 \u001b[0;31m# ### Handle simple property ###\u001b[0m\u001b[0;34m\u001b[0m\u001b[0;34m\u001b[0m\u001b[0;34m\u001b[0m\u001b[0m\n",
      "\u001b[0;32m~/opt/anaconda3/envs/solmap/lib/python3.7/site-packages/plotly/basedatatypes.py\u001b[0m in \u001b[0;36m_set_array_prop\u001b[0;34m(self, prop, val)\u001b[0m\n\u001b[1;32m   5294\u001b[0m         \u001b[0;31m# ------------\u001b[0m\u001b[0;34m\u001b[0m\u001b[0;34m\u001b[0m\u001b[0;34m\u001b[0m\u001b[0m\n\u001b[1;32m   5295\u001b[0m         \u001b[0mvalidator\u001b[0m \u001b[0;34m=\u001b[0m \u001b[0mself\u001b[0m\u001b[0;34m.\u001b[0m\u001b[0m_get_validator\u001b[0m\u001b[0;34m(\u001b[0m\u001b[0mprop\u001b[0m\u001b[0;34m)\u001b[0m\u001b[0;34m\u001b[0m\u001b[0;34m\u001b[0m\u001b[0m\n\u001b[0;32m-> 5296\u001b[0;31m         \u001b[0mval\u001b[0m \u001b[0;34m=\u001b[0m \u001b[0mvalidator\u001b[0m\u001b[0;34m.\u001b[0m\u001b[0mvalidate_coerce\u001b[0m\u001b[0;34m(\u001b[0m\u001b[0mval\u001b[0m\u001b[0;34m,\u001b[0m \u001b[0mskip_invalid\u001b[0m\u001b[0;34m=\u001b[0m\u001b[0mself\u001b[0m\u001b[0;34m.\u001b[0m\u001b[0m_skip_invalid\u001b[0m\u001b[0;34m)\u001b[0m\u001b[0;34m\u001b[0m\u001b[0;34m\u001b[0m\u001b[0m\n\u001b[0m\u001b[1;32m   5297\u001b[0m \u001b[0;34m\u001b[0m\u001b[0m\n\u001b[1;32m   5298\u001b[0m         \u001b[0;31m# Save deep copies of current and new states\u001b[0m\u001b[0;34m\u001b[0m\u001b[0;34m\u001b[0m\u001b[0;34m\u001b[0m\u001b[0m\n",
      "\u001b[0;32m~/opt/anaconda3/envs/solmap/lib/python3.7/site-packages/_plotly_utils/basevalidators.py\u001b[0m in \u001b[0;36mvalidate_coerce\u001b[0;34m(self, v, skip_invalid)\u001b[0m\n\u001b[1;32m   2557\u001b[0m                     \u001b[0mres\u001b[0m\u001b[0;34m.\u001b[0m\u001b[0mappend\u001b[0m\u001b[0;34m(\u001b[0m\u001b[0mself\u001b[0m\u001b[0;34m.\u001b[0m\u001b[0mdata_class\u001b[0m\u001b[0;34m(\u001b[0m\u001b[0mv_el\u001b[0m\u001b[0;34m)\u001b[0m\u001b[0;34m)\u001b[0m\u001b[0;34m\u001b[0m\u001b[0;34m\u001b[0m\u001b[0m\n\u001b[1;32m   2558\u001b[0m                 \u001b[0;32melif\u001b[0m \u001b[0misinstance\u001b[0m\u001b[0;34m(\u001b[0m\u001b[0mv_el\u001b[0m\u001b[0;34m,\u001b[0m \u001b[0mdict\u001b[0m\u001b[0;34m)\u001b[0m\u001b[0;34m:\u001b[0m\u001b[0;34m\u001b[0m\u001b[0;34m\u001b[0m\u001b[0m\n\u001b[0;32m-> 2559\u001b[0;31m                     \u001b[0mres\u001b[0m\u001b[0;34m.\u001b[0m\u001b[0mappend\u001b[0m\u001b[0;34m(\u001b[0m\u001b[0mself\u001b[0m\u001b[0;34m.\u001b[0m\u001b[0mdata_class\u001b[0m\u001b[0;34m(\u001b[0m\u001b[0mv_el\u001b[0m\u001b[0;34m,\u001b[0m \u001b[0mskip_invalid\u001b[0m\u001b[0;34m=\u001b[0m\u001b[0mskip_invalid\u001b[0m\u001b[0;34m)\u001b[0m\u001b[0;34m)\u001b[0m\u001b[0;34m\u001b[0m\u001b[0;34m\u001b[0m\u001b[0m\n\u001b[0m\u001b[1;32m   2560\u001b[0m                 \u001b[0;32melse\u001b[0m\u001b[0;34m:\u001b[0m\u001b[0;34m\u001b[0m\u001b[0;34m\u001b[0m\u001b[0m\n\u001b[1;32m   2561\u001b[0m                     \u001b[0;32mif\u001b[0m \u001b[0mskip_invalid\u001b[0m\u001b[0;34m:\u001b[0m\u001b[0;34m\u001b[0m\u001b[0;34m\u001b[0m\u001b[0m\n",
      "\u001b[0;32m~/opt/anaconda3/envs/solmap/lib/python3.7/site-packages/plotly/graph_objs/layout/_slider.py\u001b[0m in \u001b[0;36m__init__\u001b[0;34m(self, arg, active, activebgcolor, bgcolor, bordercolor, borderwidth, currentvalue, font, len, lenmode, minorticklen, name, pad, steps, stepdefaults, templateitemname, tickcolor, ticklen, tickwidth, transition, visible, x, xanchor, y, yanchor, **kwargs)\u001b[0m\n\u001b[1;32m   1179\u001b[0m         \u001b[0;31m# Process unknown kwargs\u001b[0m\u001b[0;34m\u001b[0m\u001b[0;34m\u001b[0m\u001b[0;34m\u001b[0m\u001b[0m\n\u001b[1;32m   1180\u001b[0m         \u001b[0;31m# ----------------------\u001b[0m\u001b[0;34m\u001b[0m\u001b[0;34m\u001b[0m\u001b[0;34m\u001b[0m\u001b[0m\n\u001b[0;32m-> 1181\u001b[0;31m         \u001b[0mself\u001b[0m\u001b[0;34m.\u001b[0m\u001b[0m_process_kwargs\u001b[0m\u001b[0;34m(\u001b[0m\u001b[0;34m**\u001b[0m\u001b[0mdict\u001b[0m\u001b[0;34m(\u001b[0m\u001b[0marg\u001b[0m\u001b[0;34m,\u001b[0m \u001b[0;34m**\u001b[0m\u001b[0mkwargs\u001b[0m\u001b[0;34m)\u001b[0m\u001b[0;34m)\u001b[0m\u001b[0;34m\u001b[0m\u001b[0;34m\u001b[0m\u001b[0m\n\u001b[0m\u001b[1;32m   1182\u001b[0m \u001b[0;34m\u001b[0m\u001b[0m\n\u001b[1;32m   1183\u001b[0m         \u001b[0;31m# Reset skip_invalid\u001b[0m\u001b[0;34m\u001b[0m\u001b[0;34m\u001b[0m\u001b[0;34m\u001b[0m\u001b[0m\n",
      "\u001b[0;32m~/opt/anaconda3/envs/solmap/lib/python3.7/site-packages/plotly/basedatatypes.py\u001b[0m in \u001b[0;36m_process_kwargs\u001b[0;34m(self, **kwargs)\u001b[0m\n\u001b[1;32m   4335\u001b[0m                 \u001b[0mself\u001b[0m\u001b[0;34m[\u001b[0m\u001b[0mk\u001b[0m\u001b[0;34m]\u001b[0m \u001b[0;34m=\u001b[0m \u001b[0mv\u001b[0m\u001b[0;34m\u001b[0m\u001b[0;34m\u001b[0m\u001b[0m\n\u001b[1;32m   4336\u001b[0m             \u001b[0;32melif\u001b[0m \u001b[0;32mnot\u001b[0m \u001b[0mself\u001b[0m\u001b[0;34m.\u001b[0m\u001b[0m_skip_invalid\u001b[0m\u001b[0;34m:\u001b[0m\u001b[0;34m\u001b[0m\u001b[0;34m\u001b[0m\u001b[0m\n\u001b[0;32m-> 4337\u001b[0;31m                 \u001b[0;32mraise\u001b[0m \u001b[0merr\u001b[0m\u001b[0;34m\u001b[0m\u001b[0;34m\u001b[0m\u001b[0m\n\u001b[0m\u001b[1;32m   4338\u001b[0m         \u001b[0;31m# No need to call _raise_on_invalid_property_error here,\u001b[0m\u001b[0;34m\u001b[0m\u001b[0;34m\u001b[0m\u001b[0;34m\u001b[0m\u001b[0m\n\u001b[1;32m   4339\u001b[0m         \u001b[0;31m# because we have it set up so that the singular case of calling\u001b[0m\u001b[0;34m\u001b[0m\u001b[0;34m\u001b[0m\u001b[0;34m\u001b[0m\u001b[0m\n",
      "\u001b[0;31mValueError\u001b[0m: Invalid property specified for object of type plotly.graph_objs.layout.Slider: 'min'\n\nDid you mean \"len\"?\n\n    Valid properties:\n        active\n            Determines which button (by index starting from 0) is\n            considered active.\n        activebgcolor\n            Sets the background color of the slider grip while\n            dragging.\n        bgcolor\n            Sets the background color of the slider.\n        bordercolor\n            Sets the color of the border enclosing the slider.\n        borderwidth\n            Sets the width (in px) of the border enclosing the\n            slider.\n        currentvalue\n            :class:`plotly.graph_objects.layout.slider.Currentvalue\n            ` instance or dict with compatible properties\n        font\n            Sets the font of the slider step labels.\n        len\n            Sets the length of the slider This measure excludes the\n            padding of both ends. That is, the slider's length is\n            this length minus the padding on both ends.\n        lenmode\n            Determines whether this slider length is set in units\n            of plot \"fraction\" or in *pixels. Use `len` to set the\n            value.\n        minorticklen\n            Sets the length in pixels of minor step tick marks\n        name\n            When used in a template, named items are created in the\n            output figure in addition to any items the figure\n            already has in this array. You can modify these items\n            in the output figure by making your own item with\n            `templateitemname` matching this `name` alongside your\n            modifications (including `visible: false` or `enabled:\n            false` to hide it). Has no effect outside of a\n            template.\n        pad\n            Set the padding of the slider component along each\n            side.\n        steps\n            A tuple of\n            :class:`plotly.graph_objects.layout.slider.Step`\n            instances or dicts with compatible properties\n        stepdefaults\n            When used in a template (as\n            layout.template.layout.slider.stepdefaults), sets the\n            default property values to use for elements of\n            layout.slider.steps\n        templateitemname\n            Used to refer to a named item in this array in the\n            template. Named items from the template will be created\n            even without a matching item in the input figure, but\n            you can modify one by making an item with\n            `templateitemname` matching its `name`, alongside your\n            modifications (including `visible: false` or `enabled:\n            false` to hide it). If there is no template or no\n            matching item, this item will be hidden unless you\n            explicitly show it with `visible: true`.\n        tickcolor\n            Sets the color of the border enclosing the slider.\n        ticklen\n            Sets the length in pixels of step tick marks\n        tickwidth\n            Sets the tick width (in px).\n        transition\n            :class:`plotly.graph_objects.layout.slider.Transition`\n            instance or dict with compatible properties\n        visible\n            Determines whether or not the slider is visible.\n        x\n            Sets the x position (in normalized coordinates) of the\n            slider.\n        xanchor\n            Sets the slider's horizontal position anchor. This\n            anchor binds the `x` position to the \"left\", \"center\"\n            or \"right\" of the range selector.\n        y\n            Sets the y position (in normalized coordinates) of the\n            slider.\n        yanchor\n            Sets the slider's vertical position anchor This anchor\n            binds the `y` position to the \"top\", \"middle\" or\n            \"bottom\" of the range selector.\n        \nDid you mean \"len\"?\n\nBad property path:\nmin\n^^^"
     ]
    }
   ],
   "source": [
    "fig = go.Figure()\n",
    "\n",
    "slider = dict(min = 0, max = 10, marks = [1,4,5])\n",
    "\n",
    "fig.update_layout(\n",
    "    sliders = [slider]\n",
    ")\n",
    "\n",
    "fig.add_slider()"
   ]
  },
  {
   "cell_type": "markdown",
   "metadata": {},
   "source": []
  }
 ],
 "metadata": {
  "interpreter": {
   "hash": "e95cdf65ea491dfaf07d4a83b25d54587afc08d005676d5cd5e624ec3833dde6"
  },
  "kernelspec": {
   "display_name": "Python 3.7.11 64-bit ('solmap': conda)",
   "language": "python",
   "name": "python3"
  },
  "language_info": {
   "codemirror_mode": {
    "name": "ipython",
    "version": 3
   },
   "file_extension": ".py",
   "mimetype": "text/x-python",
   "name": "python",
   "nbconvert_exporter": "python",
   "pygments_lexer": "ipython3",
   "version": "3.7.11"
  },
  "orig_nbformat": 4
 },
 "nbformat": 4,
 "nbformat_minor": 2
}
