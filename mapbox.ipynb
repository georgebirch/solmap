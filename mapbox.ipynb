{
 "cells": [
  {
   "cell_type": "code",
   "execution_count": 1,
   "metadata": {},
   "outputs": [
    {
     "name": "stdout",
     "output_type": "stream",
     "text": [
      "Opening tile number  0  of  4\n",
      "Opening tile number  1  of  4\n",
      "Opening tile number  2  of  4\n",
      "Opening tile number  3  of  4\n",
      "Done.\n",
      "Merging ... \n",
      "Done.\n"
     ]
    },
    {
     "data": {
      "image/png": "[encoded data removed]",
      "text/plain": [
       "<Figure size 720x720 with 1 Axes>"
      ]
     },
     "metadata": {},
     "output_type": "display_data"
    }
   ],
   "source": [
    "from utils import *\n",
    "# from raster_utils import *\n",
    "import matplotlib.pyplot as plt\n",
    "from plot_utils import *\n",
    "gps_coords = 46.500458, 8.052669\n",
    "gps_lat, gps_lon = gps_coords\n",
    "\n",
    "\n",
    "metadata_links = {'2m' : 'ch.swisstopo.swissalti3d-fGQ3d2A6.csv' , \\\n",
    "                '0.5m' : 'https://ogd.swisstopo.admin.ch/resources/ch.swisstopo.swissalti3d-3TuKAiHo.csv' }\n",
    "\n",
    "transformer = Transformer.from_crs( 'epsg:4326', 'epsg:2056' )\n",
    "swiss_topo_lon, swiss_topo_lat = transformer.transform( gps_lat, gps_lon)\n",
    "\n",
    "filename = metadata_links['2m']\n",
    "global grid_size \n",
    "grid_size = 2\n",
    "radius = 1\n",
    "tile_meta_df = get_tile_metadata(filename)\n",
    "target_tiles = get_targets(swiss_topo_lat, swiss_topo_lon, tile_meta_df, radius)\n",
    "plot_tile_corners(target_tiles)\n",
    "\n",
    "array, blank_array, transform = get_tiles(target_tiles, source = 'local')\n",
    "\n",
    "observer_pixel, observer_height = get_observer_position(array, blank_array, swiss_topo_lat, swiss_topo_lon )\n",
    "peaks_df = get_peaks( array, observer_pixel, observer_height, grid_size)\n",
    "\n",
    "array =  np.squeeze(array, axis = 0)\n",
    "\n",
    "\n",
    "# mdf_list, tdf_list, amdf_list = [], [], []\n",
    "# for month in np.arange(1,2):\n",
    "#     # compile data for a range of months\n",
    "#     year = 2021\n",
    "#     day = 1\n",
    "#     date = {'year':year,'month':month,'day':day}\n",
    "#     start_date = datetime.date(year = date['year'], month = date['month'], day = date['day'])\n",
    "#     mdf_,tdf_,amdf_  = get_data(gps_coords, observer_height, peaks_df, start_date)\n",
    "#     mdf_list.append(mdf_)\n",
    "#     tdf_list.append(tdf_)\n",
    "#     amdf_list.append(amdf_)\n",
    "\n",
    "# mdf = mdf_list[0]"
   ]
  },
  {
   "cell_type": "code",
   "execution_count": 49,
   "metadata": {},
   "outputs": [
    {
     "name": "stdout",
     "output_type": "stream",
     "text": [
      "Opening tile number  0  of  4\n",
      "Opening tile number  1  of  4\n",
      "Opening tile number  2  of  4\n",
      "Opening tile number  3  of  4\n",
      "Done.\n",
      "Merging ... \n",
      "Done.\n"
     ]
    }
   ],
   "source": [
    "target_tiles['source'] = target_tiles['local_tile']\n",
    "src_list = []\n",
    "for i, tile_path in enumerate( target_tiles.source ):\n",
    "    print('Opening tile number ', i, ' of ', target_tiles.source.size)\n",
    "    src_list.append(rio.open(tile_path, mode='r'))\n",
    "print('Done.')\n",
    "print('Merging ... ')\n",
    "array, transform = rio.merge.merge(src_list )\n",
    "print('Done.')\n",
    "src = src_list[0]\n",
    "blank_array = rio.open( \\\n",
    "    '/tmp/new.tif', \\\n",
    "    'w', \\\n",
    "    driver='GTiff', \\\n",
    "    height=array.shape[1], \\\n",
    "    width=array.shape[2], \\\n",
    "    count=1, \\\n",
    "    crs=src_list[0].crs, \\\n",
    "    transform=transform, \\\n",
    "    dtype = array.dtype)\n",
    "\n",
    "out_meta = src_list[0].meta.copy() # Copy the metadata\n",
    "# Update the metadata\n",
    "out_meta.update({\"driver\": \"GTiff\",\n",
    "                \"height\": array.shape[1],\n",
    "                \"width\": array.shape[2],\n",
    "                \"transform\": transform,\n",
    "                \"crs\": src_list[0].crs,                    \n",
    "                }\n",
    "                )\n",
    "# Plot the result\n",
    "# show(mosaic, cmap='terrain')\n",
    "# Write the mosaic raster to disk\n",
    "raster_name = './outteer.tiff'\n",
    "with rio.open(raster_name, \"w\", **out_meta) as dest:\n",
    "    dest.write(array)"
   ]
  },
  {
   "cell_type": "code",
   "execution_count": 51,
   "metadata": {},
   "outputs": [
    {
     "data": {
      "text/plain": [
       "BoundingBox(left=2646000.0, bottom=1149000.0, right=2649000.0, top=1151000.0)"
      ]
     },
     "execution_count": 51,
     "metadata": {},
     "output_type": "execute_result"
    }
   ],
   "source": [
    "dataset = rio.open('/Users/george-birchenough/solmap/outteer.tiff', mode='r')\n",
    "dataset.bounds"
   ]
  },
  {
   "cell_type": "code",
   "execution_count": 20,
   "metadata": {},
   "outputs": [],
   "source": [
    "observer_pixel, observer_height = get_observer_position(array, blank_array, swiss_topo_lat, swiss_topo_lon )"
   ]
  },
  {
   "cell_type": "code",
   "execution_count": 27,
   "metadata": {},
   "outputs": [
    {
     "data": {
      "text/plain": [
       "(1, 1000, 1500)"
      ]
     },
     "execution_count": 27,
     "metadata": {},
     "output_type": "execute_result"
    }
   ],
   "source": [
    "blank_array.shape\n",
    "array.shape"
   ]
  },
  {
   "cell_type": "code",
   "execution_count": 45,
   "metadata": {},
   "outputs": [
    {
     "data": {
      "text/plain": [
       "(array([[[ 2716.4909668 ,  2716.40063477,  2716.40917969, ...,\n",
       "           3073.40551758,  3073.77050781,  3074.07128906],\n",
       "         [ 2716.23339844,  2716.21728516,  2716.31274414, ...,\n",
       "           3073.36816406,  3073.91992188,  3074.07055664],\n",
       "         [ 2716.04492188,  2715.97363281,  2715.95507812, ...,\n",
       "           3073.51367188,  3073.87792969,  3074.41674805],\n",
       "         ...,\n",
       "         [-9999.        , -9999.        , -9999.        , ...,\n",
       "          -9999.        , -9999.        , -9999.        ],\n",
       "         [-9999.        , -9999.        , -9999.        , ...,\n",
       "          -9999.        , -9999.        , -9999.        ],\n",
       "         [-9999.        , -9999.        , -9999.        , ...,\n",
       "          -9999.        , -9999.        , -9999.        ]]]),\n",
       " Affine(2.0, 0.0, 2646000.0,\n",
       "        0.0, -2.0, 1151000.0))"
      ]
     },
     "execution_count": 45,
     "metadata": {},
     "output_type": "execute_result"
    }
   ],
   "source": [
    "# array =  np.squeeze(array, axis = 0)\n",
    "\n",
    "from rasterio.warp import reproject, Resampling\n",
    "newarray = np.empty(shape = array.shape)\n",
    "reproject(\n",
    "    source = array,\n",
    "    destination = newarray,\n",
    "    src_transform = transform,\n",
    "    dst_transform = transform,\n",
    "    src_crs = blank_array.crs,\n",
    "    dst_crs=blank_array.crs\n",
    ")"
   ]
  },
  {
   "cell_type": "code",
   "execution_count": 48,
   "metadata": {},
   "outputs": [
    {
     "ename": "AttributeError",
     "evalue": "'numpy.ndarray' object has no attribute 'bounds'",
     "output_type": "error",
     "traceback": [
      "\u001b[0;31m---------------------------------------------------------------------------\u001b[0m",
      "\u001b[0;31mAttributeError\u001b[0m                            Traceback (most recent call last)",
      "\u001b[0;32m/var/folders/wd/wwsl3f0x44sbqhsyp2_8py2r0000gn/T/ipykernel_15270/553232206.py\u001b[0m in \u001b[0;36m<module>\u001b[0;34m\u001b[0m\n\u001b[0;32m----> 1\u001b[0;31m \u001b[0mnewarray\u001b[0m\u001b[0;34m.\u001b[0m\u001b[0mbounds\u001b[0m\u001b[0;34m\u001b[0m\u001b[0;34m\u001b[0m\u001b[0m\n\u001b[0m",
      "\u001b[0;31mAttributeError\u001b[0m: 'numpy.ndarray' object has no attribute 'bounds'"
     ]
    }
   ],
   "source": [
    "with blank_array as dataset:\n",
    "    \n"
   ]
  },
  {
   "cell_type": "code",
   "execution_count": null,
   "metadata": {},
   "outputs": [
    {
     "ename": "AttributeError",
     "evalue": "'tuple' object has no attribute 'crs'",
     "output_type": "error",
     "traceback": [
      "\u001b[0;31m---------------------------------------------------------------------------\u001b[0m",
      "\u001b[0;31mAttributeError\u001b[0m                            Traceback (most recent call last)",
      "\u001b[0;32m/var/folders/wd/wwsl3f0x44sbqhsyp2_8py2r0000gn/T/ipykernel_14163/2964637269.py\u001b[0m in \u001b[0;36m<module>\u001b[0;34m\u001b[0m\n\u001b[0;32m----> 1\u001b[0;31m \u001b[0marray\u001b[0m\u001b[0;34m.\u001b[0m\u001b[0mcrs\u001b[0m\u001b[0;34m\u001b[0m\u001b[0;34m\u001b[0m\u001b[0m\n\u001b[0m",
      "\u001b[0;31mAttributeError\u001b[0m: 'tuple' object has no attribute 'crs'"
     ]
    }
   ],
   "source": [
    "array.crs"
   ]
  },
  {
   "cell_type": "code",
   "execution_count": null,
   "metadata": {},
   "outputs": [],
   "source": [
    "array.shape"
   ]
  },
  {
   "cell_type": "markdown",
   "metadata": {},
   "source": []
  },
  {
   "cell_type": "code",
   "execution_count": null,
   "metadata": {},
   "outputs": [],
   "source": [
    "import pandas as pd\n",
    "df = pd.read_csv('https://raw.githubusercontent.com/plotly/datasets/master/uber-rides-data1.csv')\n",
    "dff = df.query('Lat < 40.82').query('Lat > 40.70').query('Lon > -74.02').query('Lon < -73.91')\n",
    "dff"
   ]
  },
  {
   "cell_type": "code",
   "execution_count": null,
   "metadata": {},
   "outputs": [],
   "source": [
    "\n",
    "import datashader as ds\n",
    "cvs = ds.Canvas(plot_width=1000, plot_height=1000)\n",
    "agg = cvs.points(dff, x='Lon', y='Lat')\n",
    "# agg is an xarray object, see http://xarray.pydata.org/en/stable/ for more details\n",
    "coords_lat, coords_lon = agg.coords['Lat'].values, agg.coords['Lon'].values\n",
    "# Corners of the image, which need to be passed to mapbox\n",
    "coordinates = [[coords_lon[0], coords_lat[0]],\n",
    "               [coords_lon[-1], coords_lat[0]],\n",
    "               [coords_lon[-1], coords_lat[-1]],\n",
    "               [coords_lon[0], coords_lat[-1]]]\n",
    "\n",
    "from colorcet import fire\n",
    "import datashader.transfer_functions as tf\n",
    "img = tf.shade(agg, cmap=fire)[::-1].to_pil()\n",
    "\n",
    "import plotly.express as px\n",
    "# Trick to create rapidly a figure with mapbox axes\n",
    "fig = px.scatter_mapbox(dff[:1], lat='Lat', lon='Lon', zoom=12)\n",
    "# Add the datashader image as a mapbox layer image\n",
    "fig.update_layout(mapbox_style=\"carto-darkmatter\",\n",
    "                 mapbox_layers = [\n",
    "                {\n",
    "                    \"sourcetype\": \"image\",\n",
    "                    \"source\": img,\n",
    "                    \"coordinates\": coordinates\n",
    "                }]\n",
    ")\n",
    "fig.show()"
   ]
  },
  {
   "cell_type": "code",
   "execution_count": null,
   "metadata": {},
   "outputs": [],
   "source": []
  }
 ],
 "metadata": {
  "interpreter": {
   "hash": "e95cdf65ea491dfaf07d4a83b25d54587afc08d005676d5cd5e624ec3833dde6"
  },
  "kernelspec": {
   "display_name": "Python 3.7.11 64-bit ('solmap': conda)",
   "language": "python",
   "name": "python3"
  },
  "language_info": {
   "codemirror_mode": {
    "name": "ipython",
    "version": 3
   },
   "file_extension": ".py",
   "mimetype": "text/x-python",
   "name": "python",
   "nbconvert_exporter": "python",
   "pygments_lexer": "ipython3",
   "version": "3.7.11"
  },
  "orig_nbformat": 4
 },
 "nbformat": 4,
 "nbformat_minor": 2
}
